{
 "cells": [
  {
   "attachments": {},
   "cell_type": "markdown",
   "metadata": {},
   "source": [
    "### サンドボックス"
   ]
  },
  {
   "cell_type": "code",
   "execution_count": 3,
   "metadata": {},
   "outputs": [
    {
     "name": "stdout",
     "output_type": "stream",
     "text": [
      "平均値：2.5\n"
     ]
    }
   ],
   "source": [
    "# 配列の平均を取るコード\n",
    "import statistics\n",
    "\n",
    "list = [1, 2, 3, 4]\n",
    "mean = statistics.mean(list)\n",
    "\n",
    "print(\"平均値：{}\".format(mean))"
   ]
  },
  {
   "cell_type": "code",
   "execution_count": null,
   "metadata": {},
   "outputs": [],
   "source": [
    "# 試したいコードを書いてみよう（左の▷を押して実行）\n"
   ]
  },
  {
   "attachments": {},
   "cell_type": "markdown",
   "metadata": {},
   "source": [
    "### 作成したget_status関数を試してみる．"
   ]
  },
  {
   "cell_type": "code",
   "execution_count": 9,
   "metadata": {},
   "outputs": [
    {
     "name": "stdout",
     "output_type": "stream",
     "text": [
      "過去の状態：3 --> 現在の状態：1\n",
      "状態が変化した時間：2023-04-30 12:15:25\n"
     ]
    }
   ],
   "source": [
    "import datetime\n",
    "from get_status import get_status\n",
    "\n",
    "# 引数の定義（ここでは具体値を入れてみる．）\n",
    "past_time = datetime.datetime(year=2023, month=4, day=30, hour=12, minute=15, second=15)\n",
    "current_time = datetime.datetime(year=2023, month=4, day=30, hour=12, minute=15, second=25)\n",
    "past_status = 3\n",
    "sensor_values = [23, 24, 25, 26, 27, 28, 29, 30]\n",
    "\n",
    "# 関数の呼び出し\n",
    "current_status, state_changed_time = get_status(current_time, past_time, past_status, sensor_values)\n",
    "\n",
    "# 結果の確認\n",
    "print(\"過去の状態：{} --> 現在の状態：{}\".format(past_status, current_status))\n",
    "print(\"状態が変化した時間：{}\".format(state_changed_time))"
   ]
  },
  {
   "cell_type": "code",
   "execution_count": null,
   "metadata": {},
   "outputs": [],
   "source": []
  }
 ],
 "metadata": {
  "kernelspec": {
   "display_name": "Python 3",
   "language": "python",
   "name": "python3"
  },
  "language_info": {
   "codemirror_mode": {
    "name": "ipython",
    "version": 3
   },
   "file_extension": ".py",
   "mimetype": "text/x-python",
   "name": "python",
   "nbconvert_exporter": "python",
   "pygments_lexer": "ipython3",
   "version": "3.10.9"
  },
  "orig_nbformat": 4
 },
 "nbformat": 4,
 "nbformat_minor": 2
}
