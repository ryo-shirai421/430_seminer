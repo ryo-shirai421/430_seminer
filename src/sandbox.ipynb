{
 "cells": [
  {
   "attachments": {},
   "cell_type": "markdown",
   "metadata": {},
   "source": [
    "### サンドボックス"
   ]
  },
  {
   "cell_type": "code",
   "execution_count": 3,
   "metadata": {},
   "outputs": [
    {
     "name": "stdout",
     "output_type": "stream",
     "text": [
      "平均値：2.5\n"
     ]
    }
   ],
   "source": [
    "# 配列の平均を取るコード\n",
    "import statistics\n",
    "\n",
    "list = [1, 2, 3, 4]\n",
    "mean = statistics.mean(list)\n",
    "\n",
    "print(\"平均値：{}\".format(mean))"
   ]
  },
  {
   "cell_type": "code",
   "execution_count": null,
   "metadata": {},
   "outputs": [],
   "source": [
    "# 試したいコードを書いてみよう（左の▷を押して実行）\n"
   ]
  },
  {
   "attachments": {},
   "cell_type": "markdown",
   "metadata": {},
   "source": [
    "### 作成したget_status関数を試してみる．"
   ]
  },
  {
   "cell_type": "code",
   "execution_count": 9,
   "metadata": {},
   "outputs": [
    {
     "name": "stdout",
     "output_type": "stream",
     "text": [
      "過去の状態：3 --> 現在の状態：1\n",
      "状態が変化した時間：2023-04-30 12:15:25\n"
     ]
    }
   ],
   "source": [
    "import datetime\n",
    "from get_status import get_status\n",
    "\n",
    "# 引数の定義（ここでは具体値を入れてみる．）\n",
    "past_time = datetime.datetime(year=2023, month=4, day=30, hour=12, minute=15, second=15)\n",
    "current_time = datetime.datetime(year=2023, month=4, day=30, hour=12, minute=15, second=25)\n",
    "past_status = 3\n",
    "sensor_values = [23, 24, 25, 26, 27, 28, 29, 30]\n",
    "\n",
    "# 関数の呼び出し\n",
    "current_status, state_changed_time = get_status(current_time, past_time, past_status, sensor_values)\n",
    "\n",
    "# 結果の確認\n",
    "print(\"過去の状態：{} --> 現在の状態：{}\".format(past_status, current_status))\n",
    "print(\"状態が変化した時間：{}\".format(state_changed_time))"
   ]
  },
  {
   "attachments": {},
   "cell_type": "markdown",
   "metadata": {},
   "source": [
    "### 機械学習モデルを試してみる"
   ]
  },
  {
   "cell_type": "code",
   "execution_count": 14,
   "metadata": {},
   "outputs": [
    {
     "name": "stdout",
     "output_type": "stream",
     "text": [
      "センサの値：\n",
      "[[19 20 20 20 20 20 20 20]\n",
      " [20 21 21 21 20 20 20 20]\n",
      " [31 32 32 31 31 31 31 31]\n",
      " [12 13 13 13 15 16 16 17]\n",
      " [14 17 18 17 19 21 22 22]]\n",
      "正解ラベル：[0 0 1 0 0]\n",
      "予測結果：[0 0 1 0 0]\n"
     ]
    }
   ],
   "source": [
    "import pickle\n",
    "import pandas as pd\n",
    "import numpy as np\n",
    "\n",
    "# 訓練データの読み込み\n",
    "X = pd.read_csv(\"../data/train_data.csv\", header=None).values[:5]\n",
    "# 正解ラベルの読み込み\n",
    "y = np.ravel(pd.read_csv(\"../data/train_label.csv\", header=None).values)[:5]\n",
    "# 読み込んだデータの表示\n",
    "print(\"センサの値：\\n{}\".format(X))\n",
    "print(\"正解ラベル：{}\".format(y))\n",
    "\n",
    "# 訓練したモデルの読み込み\n",
    "model = pickle.load(open(\"../params/knn_model.pkl\", \"rb\"))\n",
    "# センサの値から状態を予測\n",
    "current_status = model.predict(X)\n",
    "print(\"予測結果：{}\".format(current_status))"
   ]
  }
 ],
 "metadata": {
  "kernelspec": {
   "display_name": "Python 3",
   "language": "python",
   "name": "python3"
  },
  "language_info": {
   "codemirror_mode": {
    "name": "ipython",
    "version": 3
   },
   "file_extension": ".py",
   "mimetype": "text/x-python",
   "name": "python",
   "nbconvert_exporter": "python",
   "pygments_lexer": "ipython3",
   "version": "3.10.10"
  },
  "orig_nbformat": 4
 },
 "nbformat": 4,
 "nbformat_minor": 2
}
